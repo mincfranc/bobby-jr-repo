{
  "cells": [
    {
      "cell_type": "markdown",
      "metadata": {
        "id": "view-in-github"
      },
      "source": [
        "<a href=\"https://colab.research.google.com/github/RSBalchII/cohort-15-data-science/blob/main/Project_2_Housing_Price_Prediction_v_3.ipynb\" target=\"_parent\"><img src=\"https://colab.research.google.com/assets/colab-badge.svg\" alt=\"Open In Colab\"/></a>"
      ]
    },
    {
      "cell_type": "markdown",
      "metadata": {
        "id": "7xZ7Xm6haWL0"
      },
      "source": [
        "# Project 2: Housing Price Prediction\n"
      ]
    },
    {
      "cell_type": "markdown",
      "metadata": {
        "id": "UqTHvZmzaoXx"
      },
      "source": [
        "The project should be done using Regression prediction techniques ( with feature scaling and regularization ) as covered in class.\n",
        "The goal is to minimize the RMS ***percentage*** error ( root mean squared percentage error - RMSPE ) on your prediction of the house sales price.\n",
        "\n"
      ]
    },
    {
      "cell_type": "markdown",
      "metadata": {
        "id": "e6QaOA3-a6Xy"
      },
      "source": [
        "Any of the available features can be used in the regression, but a minimum set of variables that do the job should be the ultimate goal.\n",
        "\n"
      ]
    },
    {
      "cell_type": "markdown",
      "metadata": {
        "id": "9LDYmtpha7GP"
      },
      "source": [
        "Be sure to go through the whole data science process and document as such in your Jupyter notebook.\n",
        "\n"
      ]
    },
    {
      "cell_type": "markdown",
      "metadata": {
        "id": "avuzkDMRa70x"
      },
      "source": [
        "This project will have less direct \"To Do\" guidance and the progression through the data science process will be more individualized this time around.\n",
        "We will talk about all the issues during class so you're not going to be out on a ledge with this one, I just want to move you towards performing a data science project on your own eventually.\n",
        "\n"
      ]
    },
    {
      "cell_type": "markdown",
      "metadata": {
        "id": "YhCip5q-a9Wh"
      },
      "source": [
        "The data is available on AWS S3 at https://ddc-datascience.s3.amazonaws.com/Projects/Project.2-Housing/Data/Housing.Data.csv .\n"
      ]
    },
    {
      "cell_type": "markdown",
      "metadata": {
        "id": "Py2Jc68C4Pyw"
      },
      "source": [
        "# Install Nvidia cudf dependencies and package"
      ]
    },
    {
      "cell_type": "code",
      "execution_count": null,
      "metadata": {},
      "outputs": [],
      "source": [
        "%%capture\n",
        "!pip install cudf-cu11 --extra-index-url=https://pypi.ngc.nvidia.com\n",
        "!apt-get update\n",
        "!apt-get install -y nvidia-cuda-toolkit\n",
        "\n",
        "import locale\n",
        "locale.getpreferredencoding = lambda: \"UTF-8\"\n",
        "\n",
        "%load_ext cudf.pandas"
      ]
    },
    {
      "cell_type": "markdown",
      "metadata": {
        "id": "hg9PGofXa8oz"
      },
      "source": [
        "A data dictionary file is available at AWS S3 at [Housing Data Dictionary]( https://ddc-datascience.s3.amazonaws.com/Projects/Project.2-Housing/Housing%20-%20Data%20Documentation.pdf )."
      ]
    },
    {
      "cell_type": "markdown",
      "metadata": {
        "id": "5j7AEo0RyTvX"
      },
      "source": [
        "## 1- Imports"
      ]
    },
    {
      "cell_type": "code",
      "execution_count": 2,
      "metadata": {
        "id": "wr7X4i8_yZSf"
      },
      "outputs": [],
      "source": [
        "import pandas as pd\n",
        "import numpy as np\n",
        "\n",
        "import matplotlib.pyplot as plt\n",
        "import seaborn as sns\n",
        "\n",
        "from sklearn.model_selection import train_test_split\n",
        "\n",
        "from sklearn.metrics import mean_squared_error\n",
        "\n",
        "from sklearn.impute import SimpleImputer\n",
        "\n",
        "from sklearn.feature_selection import RFE\n",
        "from sklearn.feature_selection import RFECV\n",
        "\n",
        "from sklearn.linear_model import LinearRegression\n",
        "from sklearn.linear_model import Ridge\n",
        "\n",
        "from sklearn.ensemble import RandomForestRegressor\n",
        "\n",
        "from sklearn.preprocessing import StandardScaler\n"
      ]
    },
    {
      "cell_type": "markdown",
      "metadata": {
        "id": "ga2Jr2n-ybqu"
      },
      "source": [
        "# 2- Loading the Data"
      ]
    },
    {
      "cell_type": "code",
      "execution_count": 3,
      "metadata": {
        "colab": {
          "base_uri": "https://localhost:8080/"
        },
        "id": "gHSObMW0yecf",
        "outputId": "9c6036da-e92a-4a72-fd04-e081d5544531"
      },
      "outputs": [],
      "source": [
        "# Load the data\n",
        "url = 'https://ddc-datascience.s3.amazonaws.com/Projects/Project.2-Housing/Data/Housing.Data.csv'\n",
        "df = pd.read_csv(url)"
      ]
    },
    {
      "cell_type": "markdown",
      "metadata": {
        "id": "5RUXSTw_2Qd_"
      },
      "source": [
        "# 3- Create Data Frame"
      ]
    },
    {
      "cell_type": "code",
      "execution_count": 4,
      "metadata": {
        "id": "I5vwAI0G15Oz"
      },
      "outputs": [],
      "source": [
        "df_1 = pd.DataFrame(df)"
      ]
    },
    {
      "cell_type": "markdown",
      "metadata": {
        "id": "b2Co4BOAI1-R"
      },
      "source": [
        "## Determine the \"target\""
      ]
    },
    {
      "cell_type": "code",
      "execution_count": 5,
      "metadata": {
        "id": "m87i9NYyKhfo"
      },
      "outputs": [],
      "source": [
        "# Identify the target variable (SalePrice)\n",
        "target = df_1['SalePrice'].copy()"
      ]
    },
    {
      "cell_type": "markdown",
      "metadata": {
        "id": "jD8pmDVxy9Kq"
      },
      "source": [
        "### Determining data distinctions"
      ]
    },
    {
      "cell_type": "code",
      "execution_count": null,
      "metadata": {
        "colab": {
          "base_uri": "https://localhost:8080/"
        },
        "id": "TjINgMNHy8g-",
        "outputId": "6e3ce89f-c679-47f8-cd7e-dd294f2d2478"
      },
      "outputs": [],
      "source": [
        "# Identify categorical columns\n",
        "categorical_cols = df_1.select_dtypes(include=['object', 'category']).columns.tolist()\n",
        "print(f'Categorical columns{categorical_cols}')\n",
        "\n",
        "# Identify numerical columns\n",
        "numerical_cols = df_1.select_dtypes(include=['int64', 'float64']).columns.tolist()\n",
        "print(f'\\nNumerical columns{numerical_cols}')\n",
        "\n"
      ]
    },
    {
      "cell_type": "markdown",
      "metadata": {
        "id": "-ZqzQXuJ4H1m"
      },
      "source": [
        "### Asses Unique Values"
      ]
    },
    {
      "cell_type": "code",
      "execution_count": null,
      "metadata": {
        "colab": {
          "base_uri": "https://localhost:8080/"
        },
        "id": "beNtpYo53XIJ",
        "outputId": "8ba034cd-7389-49b3-ded1-ff0adacc168b"
      },
      "outputs": [],
      "source": [
        "for col in categorical_cols:\n",
        "    unique_values = df_1[col].unique()\n",
        "    print(f\"Unique values in column '{col}': {unique_values}\")"
      ]
    },
    {
      "cell_type": "markdown",
      "metadata": {
        "id": "9UsXr63GYfMN"
      },
      "source": [
        "### **Zacs**"
      ]
    },
    {
      "cell_type": "code",
      "execution_count": 8,
      "metadata": {
        "id": "sCEwrpoXYhOd"
      },
      "outputs": [],
      "source": [
        "# B =['Street']\n",
        "# A = ['Alley']\n",
        "# merged_df = pd.merge(\n",
        "#     categorical_cols[A + B].value_counts(dropna = True).reset_index() ,\n",
        "#     categorical_cols[B].value_counts(dropna = True).reset_index(),\n",
        "#     on = B\n",
        "#   )\n",
        "# merged_df['marg_prob'] = merged_df['count_x']/merged_df['count_y'] * 100\n",
        "# merged_df"
      ]
    },
    {
      "cell_type": "markdown",
      "metadata": {
        "id": "leLSV2-QTcDK"
      },
      "source": [
        "### Mels\n"
      ]
    },
    {
      "cell_type": "code",
      "execution_count": 9,
      "metadata": {
        "id": "xekFKUrXTfrr"
      },
      "outputs": [],
      "source": [
        "# pairs = ['Street', 'Heating']\n",
        "# house_orig[pairs].value_counts()/house_orig[pairs].value_counts().sum()*100"
      ]
    },
    {
      "cell_type": "markdown",
      "metadata": {
        "id": "rbq4t8ql_Pof"
      },
      "source": [
        "### Minervas marginal Probability ex."
      ]
    },
    {
      "cell_type": "markdown",
      "metadata": {
        "id": "5E_0kYfk_p-5"
      },
      "source": [
        "##### for col in categorical_cols:\n",
        "```\n",
        "for col in categorical_cols:\n",
        "  print(categorical_cols[col].value_counts() /categorical_cols[col].notna().sum()*100 , '\\n')\n",
        "  ```"
      ]
    },
    {
      "cell_type": "markdown",
      "metadata": {
        "id": "S6D0-CHu_Yvq"
      },
      "source": [
        "## Adapted marginal Probability for my setup"
      ]
    },
    {
      "cell_type": "code",
      "execution_count": null,
      "metadata": {
        "colab": {
          "base_uri": "https://localhost:8080/"
        },
        "id": "XzpzNZtV_Ggq",
        "outputId": "c77235c7-a670-42d4-87f0-41788fb80003"
      },
      "outputs": [],
      "source": [
        "# Print value counts and percentages for each categorical column\n",
        "for col in categorical_cols:\n",
        "    print(f\"\\nColumn: {col}\")\n",
        "    print(df[col].value_counts(normalize=True) * 100)\n"
      ]
    },
    {
      "cell_type": "markdown",
      "metadata": {
        "id": "3FNoPOwrECqd"
      },
      "source": [
        "### Examination of categorical variables"
      ]
    },
    {
      "cell_type": "code",
      "execution_count": null,
      "metadata": {
        "colab": {
          "base_uri": "https://localhost:8080/"
        },
        "id": "E1lhK85REHqx",
        "outputId": "8053ae67-75bd-4543-b066-5942ba57c50b"
      },
      "outputs": [],
      "source": [
        "# Examine categorical variables\n",
        "for col in categorical_cols:\n",
        "    print(f\"\\nColumn: {col}\")\n",
        "    print(f\"Number of unique values: {len(df_1[col].unique())}\")\n",
        "    print(f\"Most common values:\")\n",
        "    print(df_1[col].value_counts(normalize=True).head())\n",
        "\n",
        "    # Check if the column has too many unique values\n",
        "    if len(df_1[col]) > 50:\n",
        "        print(f\"Warning: {col} has more than 50 unique values\")\n",
        "\n",
        "    # Check if the column is highly imbalanced\n",
        "    if df_1[col].value_counts(normalize=True).max() > 0.95:\n",
        "        print(f\"Warning: {col} is highly imbalanced\")\n"
      ]
    },
    {
      "cell_type": "markdown",
      "metadata": {
        "id": "mSIQcLvlE6Sm"
      },
      "source": [
        "#"
      ]
    },
    {
      "cell_type": "markdown",
      "metadata": {
        "id": "H7yq1mvhFATO"
      },
      "source": [
        "# 4- Data Cleaning"
      ]
    },
    {
      "cell_type": "markdown",
      "metadata": {
        "id": "6DWpA9BKF6j5"
      },
      "source": [
        "### isolate Float64 data columns"
      ]
    },
    {
      "cell_type": "code",
      "execution_count": null,
      "metadata": {
        "colab": {
          "base_uri": "https://localhost:8080/",
          "height": 338
        },
        "id": "oALCfHUcFHCp",
        "outputId": "c7435524-8bf9-4c1c-8707-7dc8c0384e71"
      },
      "outputs": [],
      "source": [
        "# Get the names of the float columns\n",
        "float_columns = df_1.select_dtypes(include=['float64']).columns\n",
        "\n",
        "# Select the float columns from df_1\n",
        "df_float = df_1[float_columns]\n",
        "\n",
        "df_float_1 = df_float.copy()\n",
        "\n",
        "df_float_1.describe()"
      ]
    },
    {
      "cell_type": "markdown",
      "metadata": {
        "id": "wnrak5YiIYRK"
      },
      "source": [
        "### Cleaning null values"
      ]
    },
    {
      "cell_type": "code",
      "execution_count": null,
      "metadata": {
        "colab": {
          "base_uri": "https://localhost:8080/"
        },
        "id": "yQ2o_im1H6RW",
        "outputId": "5c205fb3-ee47-4397-d391-1997b827badb"
      },
      "outputs": [],
      "source": [
        "# Check for missing values\n",
        "print(df_float_1.isnull().sum())"
      ]
    },
    {
      "cell_type": "markdown",
      "metadata": {
        "id": "eNxdtGxwPofs"
      },
      "source": [
        "### dropping Lot Frontage with high number of null values"
      ]
    },
    {
      "cell_type": "code",
      "execution_count": null,
      "metadata": {
        "colab": {
          "base_uri": "https://localhost:8080/"
        },
        "id": "58510tWWLSpO",
        "outputId": "9fc28c88-d651-49e7-f6c0-3f10089bebc2"
      },
      "outputs": [],
      "source": [
        "# Remove 'Lot Frontage' column\n",
        "df_float_1 = df_float_1.drop('Lot Frontage', axis=1)\n",
        "\n",
        "# Check for missing values\n",
        "print(df_float_1.isnull().sum())"
      ]
    },
    {
      "cell_type": "markdown",
      "metadata": {
        "id": "k8kTt4WpPoAA"
      },
      "source": [
        "### Imputing data for the remainder of columns using looping method"
      ]
    },
    {
      "cell_type": "code",
      "execution_count": null,
      "metadata": {
        "colab": {
          "base_uri": "https://localhost:8080/"
        },
        "id": "w1wqMR7hPz_S",
        "outputId": "290e8ae8-7dad-4101-d228-9df07a52fd39"
      },
      "outputs": [],
      "source": [
        "# Replace missing values with the mean of each column\n",
        "for col in df_float_1.columns:\n",
        "    df_float_1[col] = df_float_1[col].fillna(df_float_1[col].mean())\n",
        "\n",
        "# Verify that there are no more missing values\n",
        "print(df_float_1.isnull().sum())"
      ]
    },
    {
      "cell_type": "code",
      "execution_count": 16,
      "metadata": {
        "id": "iXGGeJO2rZB-"
      },
      "outputs": [],
      "source": [
        "features_for_correlation = df_float_1.copy()"
      ]
    },
    {
      "cell_type": "markdown",
      "metadata": {
        "id": "rj2eSqgmP2gN"
      },
      "source": [
        "### preparing cleaned feature data for feature correlation"
      ]
    },
    {
      "cell_type": "code",
      "execution_count": null,
      "metadata": {
        "colab": {
          "base_uri": "https://localhost:8080/"
        },
        "id": "7G20b75mOUas",
        "outputId": "716d5364-3bf3-4361-9e09-8f393f792bc6"
      },
      "outputs": [],
      "source": [
        "# Ensure SalePrice is in df_1\n",
        "if 'SalePrice' not in df_1:\n",
        "    print(\"SalePrice not found in df_1. Please check your data.\")\n",
        "else:\n",
        "    # Concatenate df_float_1 with SalePrice\n",
        "    features_for_correlation['SalePrice'] = df_1['SalePrice']\n",
        "\n",
        "# Print the shape of the updated dataframe\n",
        "print(f\"Shape of df_float_1 after adding SalePrice: {features_for_correlation.shape}\")\n",
        "\n",
        "# Print the columns of df_float_1\n",
        "print(\"Columns in features_for_correlation\")\n",
        "print(features_for_correlation.columns)"
      ]
    },
    {
      "cell_type": "markdown",
      "metadata": {
        "id": "Uie_Sx57Q0N0"
      },
      "source": [
        "# 5a- Feature Selection"
      ]
    },
    {
      "cell_type": "markdown",
      "metadata": {
        "id": "mEH85fjaRDR8"
      },
      "source": [
        "### Initial Correlation Visualization of remaining features"
      ]
    },
    {
      "cell_type": "code",
      "execution_count": null,
      "metadata": {
        "colab": {
          "base_uri": "https://localhost:8080/",
          "height": 1000
        },
        "id": "NHg3pMVKQ2bG",
        "outputId": "e6a2ffeb-8126-4bea-c300-51b8708b5611"
      },
      "outputs": [],
      "source": [
        "# Calculate correlation matrix\n",
        "corr_matrix = features_for_correlation.corr()\n",
        "\n",
        "# Extract correlations with SalePrice\n",
        "saleprice_corr = corr_matrix['SalePrice'].abs().sort_values(ascending=False)\n",
        "\n",
        "# Print the top 10 most correlated features with SalePrice\n",
        "print(\"Top 5 features correlated with SalePrice:\")\n",
        "print(saleprice_corr.head(10))\n",
        "\n",
        "# Create a heatmap of the top 10 correlated features\n",
        "top_features = saleprice_corr.index[:10].tolist()\n",
        "top_features.append('SalePrice')\n",
        "\n",
        "plt.figure(figsize=(12, 10))\n",
        "sns.heatmap(corr_matrix.loc[top_features, top_features], annot=True, cmap='coolwarm', square=True)\n",
        "plt.title('Correlation Matrix of Top Features with SalePrice')\n",
        "plt.show()"
      ]
    },
    {
      "cell_type": "markdown",
      "metadata": {
        "id": "5phEL5ylQ_aH"
      },
      "source": [
        "### Feature Selection based on correlation"
      ]
    },
    {
      "cell_type": "code",
      "execution_count": null,
      "metadata": {
        "colab": {
          "base_uri": "https://localhost:8080/"
        },
        "id": "k7GIzvalRJnr",
        "outputId": "1aa635df-bd6e-4013-a281-25c6ecbe7be4"
      },
      "outputs": [],
      "source": [
        "# Print the top 10 most correlated features with SalePrice\n",
        "print(\"Top 10 features correlated with SalePrice:\")\n",
        "print(saleprice_corr.head(11))\n"
      ]
    },
    {
      "cell_type": "code",
      "execution_count": 20,
      "metadata": {
        "id": "4Iy5jqp7RLMM"
      },
      "outputs": [],
      "source": [
        "# Select features with correlation > 0.5\n",
        "selected_features = saleprice_corr[saleprice_corr > 0.5].index.tolist()"
      ]
    },
    {
      "cell_type": "code",
      "execution_count": null,
      "metadata": {
        "colab": {
          "base_uri": "https://localhost:8080/"
        },
        "id": "sjRjKXeRRMbk",
        "outputId": "197d17a3-000c-46cf-c6ce-e46496951d96"
      },
      "outputs": [],
      "source": [
        "# Remove 'SalePrice' from the list if it exists\n",
        "if 'SalePrice' in selected_features:\n",
        "    selected_features.remove('SalePrice')\n",
        "\n",
        "# Print selected features\n",
        "print(\"\\nSelected features (correlation > 0.5):\")\n",
        "print(selected_features)"
      ]
    },
    {
      "cell_type": "code",
      "execution_count": 22,
      "metadata": {
        "id": "VUM7cF9xRNgC"
      },
      "outputs": [],
      "source": [
        "# Create a new dataframe with selected features\n",
        "corr_features = features_for_correlation[selected_features].copy()"
      ]
    },
    {
      "cell_type": "code",
      "execution_count": null,
      "metadata": {
        "colab": {
          "base_uri": "https://localhost:8080/"
        },
        "id": "r8AXkoJeRO2N",
        "outputId": "d3c4891e-7c18-4f2a-83e4-38f1c5e28a7d"
      },
      "outputs": [],
      "source": [
        "\n",
        "# Print the shape of the new dataframe\n",
        "print(f\"\\nShape of selected features dataframe: {corr_features.shape}\")"
      ]
    },
    {
      "cell_type": "markdown",
      "metadata": {
        "id": "DDxjTUITI-9-"
      },
      "source": [
        "# 5a1- Data Preparation"
      ]
    },
    {
      "cell_type": "code",
      "execution_count": null,
      "metadata": {
        "id": "Rd6d6-slJDZR"
      },
      "outputs": [],
      "source": [
        "# Print the shape of features and target\n",
        "print(f\"Features shape: {corr_features.shape}\")\n",
        "print(f\"Target shape: {target.shape}\")"
      ]
    },
    {
      "cell_type": "markdown",
      "metadata": {
        "id": "bpqy_UM0J12_"
      },
      "source": [
        "### Splitting Training and Testing sets"
      ]
    },
    {
      "cell_type": "code",
      "execution_count": 25,
      "metadata": {
        "id": "JSuZNDS1J5up"
      },
      "outputs": [],
      "source": [
        "# Data Preparation\n",
        "X_train, X_test, y_train, y_test = train_test_split(corr_features, target, test_size=0.2, random_state=42)\n"
      ]
    },
    {
      "cell_type": "code",
      "execution_count": null,
      "metadata": {
        "colab": {
          "base_uri": "https://localhost:8080/"
        },
        "id": "tx_unRLrJ8P3",
        "outputId": "10f017a2-d52f-4887-977a-4c40ec7f9977"
      },
      "outputs": [],
      "source": [
        "# Print the shapes of the split data\n",
        "print(f\"X_train shape: {X_train.shape}\")\n",
        "print(f\"X_test shape: {X_test.shape}\")\n",
        "print(f\"y_train shape: {y_train.shape}\")\n",
        "print(f\"y_test shape: {y_test.shape}\")"
      ]
    },
    {
      "cell_type": "markdown",
      "metadata": {
        "id": "jyqYwEQ8Y3e7"
      },
      "source": [
        "### Feature Scaling for corr_features"
      ]
    },
    {
      "cell_type": "code",
      "execution_count": 27,
      "metadata": {
        "id": "Ax3QCTXaY3SL"
      },
      "outputs": [],
      "source": [
        "# Feature Scaling\n",
        "scaler = StandardScaler()\n",
        "X_train_scaled = scaler.fit_transform(X_train)\n",
        "X_test_scaled = scaler.transform(X_test)"
      ]
    },
    {
      "cell_type": "markdown",
      "metadata": {
        "id": "WCKQv1R-OnOP"
      },
      "source": [
        "# 5a- Model Creation and Eval"
      ]
    },
    {
      "cell_type": "code",
      "execution_count": null,
      "metadata": {
        "colab": {
          "base_uri": "https://localhost:8080/",
          "height": 618
        },
        "id": "wQEca3BQesGO",
        "outputId": "08ca12d5-9e44-4ab7-c9c7-0c09e92e2e24"
      },
      "outputs": [],
      "source": [
        "# Model Creation and Evaluation\n",
        "# Use Ridge regression with a small alpha value to add some regularization\n",
        "model = Ridge(alpha=0.1)\n",
        "model.fit(X_train_scaled, y_train)\n",
        "\n",
        "# Make predictions\n",
        "predictions = model.predict(X_test_scaled)\n",
        "\n",
        "# Calculate metrics\n",
        "rmse = np.sqrt(mean_squared_error(y_test, predictions))\n",
        "print(f\"Root Mean Squared Error (RMSE): ${rmse:.2f}\")\n",
        "\n",
        "rmspe = np.sqrt(np.mean((predictions - y_test) / y_test)**2) * 100\n",
        "print(f\"Root Mean Squared Percentage Error (RMSPE): {rmspe:.2f}%\")\n",
        "\n",
        "r2 = model.score(X_test_scaled, y_test)\n",
        "print(f\"R-squared: {r2:.4f}\")\n",
        "\n",
        "# Visualize the predictions vs actual values\n",
        "plt.figure(figsize=(10, 6))\n",
        "plt.scatter(y_test, predictions)\n",
        "plt.plot([min(y_test), max(y_test)], [min(y_test), max(y_test)], 'r--')\n",
        "plt.xlabel('Actual Price ($)')\n",
        "plt.ylabel('Predicted Price ($)')\n",
        "plt.title('Actual vs Predicted House Prices')\n",
        "plt.show()\n"
      ]
    },
    {
      "cell_type": "markdown",
      "metadata": {
        "id": "2S6VKWcvcIUD"
      },
      "source": [
        "# 5b- RFE Feature Selection\n"
      ]
    },
    {
      "cell_type": "markdown",
      "metadata": {
        "id": "hPVgZ4gIXIZ8"
      },
      "source": [
        "### Feature Scaling for RFE Selection"
      ]
    },
    {
      "cell_type": "code",
      "execution_count": null,
      "metadata": {
        "colab": {
          "base_uri": "https://localhost:8080/",
          "height": 206
        },
        "id": "frEcVdraXRuB",
        "outputId": "fb2c753f-ca68-4c77-f52b-cb592ddc0429"
      },
      "outputs": [],
      "source": [
        "scaling_features = features_for_correlation.copy()\n",
        "scaling_features.head()"
      ]
    },
    {
      "cell_type": "code",
      "execution_count": 30,
      "metadata": {
        "id": "N9xwn2AfXezS"
      },
      "outputs": [],
      "source": [
        "X_train, X_test, y_train, y_test = train_test_split(scaling_features, target, test_size=0.2, random_state=42)"
      ]
    },
    {
      "cell_type": "code",
      "execution_count": 31,
      "metadata": {
        "id": "hSEHaVRmXIDr"
      },
      "outputs": [],
      "source": [
        "scaler = StandardScaler()\n",
        "X_train_scaled = scaler.fit_transform(X_train)\n",
        "X_test_scaled = scaler.transform(X_test)"
      ]
    },
    {
      "cell_type": "code",
      "execution_count": null,
      "metadata": {
        "colab": {
          "base_uri": "https://localhost:8080/"
        },
        "id": "RhnBozkTXbkz",
        "outputId": "31b1e90f-efe3-40a3-f2c7-f18730395cd0"
      },
      "outputs": [],
      "source": [
        "#  Create a linear regression model\n",
        "model = LinearRegression()\n",
        "\n",
        "# Create an RFE object with 10 features to select\n",
        "rfe = RFE(model, n_features_to_select=10)\n",
        "\n",
        "# Fit the RFE object\n",
        "rfe.fit(X_train, y_train)\n",
        "\n",
        "# Get the selected features\n",
        "selected_features_rfe = X_train.columns[rfe.support_]\n",
        "print(\"Selected features by RFE:\", selected_features_rfe)\n",
        "\n",
        "# Get feature rankings\n",
        "feature_rankings = rfe.ranking_\n",
        "print(\"\\nFeature rankings:\")\n",
        "for feature, rank in zip(X_train.columns, feature_rankings):\n",
        "    print(f\"{feature}: {rank}\")\n"
      ]
    },
    {
      "cell_type": "code",
      "execution_count": null,
      "metadata": {
        "colab": {
          "base_uri": "https://localhost:8080/",
          "height": 653
        },
        "id": "ZPrYW4Pvew2o",
        "outputId": "1f8a225b-c89f-4681-e5f1-6537fde30571"
      },
      "outputs": [],
      "source": [
        "# Initialize Random Forest Regressor\n",
        "rf_regressor = RandomForestRegressor(n_estimators=100, random_state=42)\n",
        "\n",
        "# Create RFE object with 11 features to select\n",
        "rfe = RFE(estimator=rf_regressor, n_features_to_select=11)\n",
        "\n",
        "# Fit the RFE model\n",
        "rfe.fit(X_train, y_train)\n",
        "\n",
        "# Get the selected features\n",
        "selected_features = X_train.columns[rfe.support_]\n",
        "print(\"Selected Features:\", selected_features)\n",
        "\n",
        "# create a new Random Forest Regressor model using only the selected\n",
        "new_rf_model = RandomForestRegressor(n_estimators=100, random_state=42)\n",
        "\n",
        "# Fit the new model on the selected features\n",
        "X_train_selected = X_train[selected_features]\n",
        "new_rf_model.fit(X_train_selected, y_train)\n",
        "\n",
        "# evaluate our new model:\n",
        "# Make predictions on the test set\n",
        "X_test_selected = X_test[selected_features]\n",
        "y_pred = new_rf_model.predict(X_test_selected)\n",
        "\n",
        "# Calculate MSE\n",
        "mse = mean_squared_error(y_test, y_pred)\n",
        "rmse = np.sqrt(mse)\n",
        "\n",
        "print(f\"RMSE of RFE-selected Random Forest Model: {rmse}\")\n",
        "\n",
        "# Visualize the predictions vs actual values\n",
        "plt.figure(figsize=(10, 6))\n",
        "plt.scatter(y_test, predictions)\n",
        "plt.plot([min(y_test), max(y_test)], [min(y_test), max(y_test)], 'r--')\n",
        "plt.xlabel('Actual Price ($)')\n",
        "plt.ylabel('Predicted Price ($)')\n",
        "plt.title('Actual vs Predicted House Prices')\n",
        "plt.show()\n"
      ]
    },
    {
      "cell_type": "markdown",
      "metadata": {
        "id": "Qy8er7rAXWhT"
      },
      "source": [
        "# 5c- RFECV Feature Selection"
      ]
    },
    {
      "cell_type": "code",
      "execution_count": 34,
      "metadata": {
        "id": "Vndwh2WXYOXV"
      },
      "outputs": [],
      "source": [
        "# # Create a linear regression model\n",
        "# model = LinearRegression()\n",
        "\n",
        "# # Create an RFECV object\n",
        "# rfecv = RFECV(estimator=model, step=1, cv=5)\n",
        "\n",
        "# # Fit the RFECV object\n",
        "# rfecv.fit(X_train, y_train)\n",
        "\n",
        "# # Get the selected features\n",
        "# selected_features_rfecv = X_train.columns[rfecv.support_]\n",
        "# print(\"\\nSelected features by RFECV:\", selected_features_rfecv)\n",
        "\n",
        "# # Print the optimal number of features\n",
        "# print(f\"\\nOptimal number of features: {rfecv.n_features_}\")\n",
        "\n",
        "# # Plot the cross-validation scores\n",
        "# plt.figure(figsize=(10, 6))\n",
        "# plt.xlabel(\"Number of features selected\")\n",
        "# plt.ylabel(\"Cross validation score\")It\n",
        "# plt.plot(range(1, len(rfecv.cv_results_['mean_test_score']) + 1), rfecv.cv_results_['mean_test_score'])\n",
        "# plt.title(\"RFECV Cross Validation Scores\")\n",
        "# plt.show()\n"
      ]
    }
  ],
  "metadata": {
    "colab": {
      "collapsed_sections": [
        "5RUXSTw_2Qd_",
        "rbq4t8ql_Pof",
        "S6D0-CHu_Yvq",
        "3FNoPOwrECqd",
        "6DWpA9BKF6j5",
        "wnrak5YiIYRK"
      ],
      "provenance": [],
      "toc_visible": true
    },
    "kernelspec": {
      "display_name": "venv",
      "language": "python",
      "name": "venv"
    },
    "language_info": {
      "codemirror_mode": {
        "name": "ipython",
        "version": 3
      },
      "file_extension": ".py",
      "mimetype": "text/x-python",
      "name": "python",
      "nbconvert_exporter": "python",
      "pygments_lexer": "ipython3",
      "version": "3.12.3"
    }
  },
  "nbformat": 4,
  "nbformat_minor": 0
}
