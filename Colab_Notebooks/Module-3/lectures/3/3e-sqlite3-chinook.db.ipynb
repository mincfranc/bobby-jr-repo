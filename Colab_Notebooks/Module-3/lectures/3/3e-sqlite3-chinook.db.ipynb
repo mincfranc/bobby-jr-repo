{
  "cells": [
    {
      "cell_type": "markdown",
      "metadata": {
        "id": "937JmwFgAGKv"
      },
      "source": [
        "# Using a DB in sqlite3\n"
      ]
    },
    {
      "cell_type": "markdown",
      "metadata": {
        "id": "hWoL9F4P9rkL"
      },
      "source": [
        "## SQL in sqlite3"
      ]
    },
    {
      "cell_type": "code",
      "execution_count": 2,
      "metadata": {
        "id": "65anBhbi11CF"
      },
      "outputs": [],
      "source": [
        "%%capture\n",
        "%%bash\n",
        "apt-get update\n",
        "apt-get install -y sqlite3\n"
      ]
    },
    {
      "cell_type": "code",
      "execution_count": 3,
      "metadata": {
        "id": "dFxdXsKp2E2Y",
        "outputId": "b12e8cda-af4e-4483-dd9d-defeb607c5f6",
        "colab": {
          "base_uri": "https://localhost:8080/"
        }
      },
      "outputs": [
        {
          "output_type": "stream",
          "name": "stdout",
          "text": [
            "Usage: sqlite3 [OPTIONS] FILENAME [SQL]\n",
            "FILENAME is the name of an SQLite database. A new database is created\n",
            "if the file does not previously exist.\n",
            "OPTIONS include:\n",
            "   -A ARGS...           run \".archive ARGS\" and exit\n",
            "   -append              append the database to the end of the file\n",
            "   -ascii               set output mode to 'ascii'\n",
            "   -bail                stop after hitting an error\n",
            "   -batch               force batch I/O\n",
            "   -box                 set output mode to 'box'\n",
            "   -column              set output mode to 'column'\n",
            "   -cmd COMMAND         run \"COMMAND\" before reading stdin\n",
            "   -csv                 set output mode to 'csv'\n",
            "   -deserialize         open the database using sqlite3_deserialize()\n",
            "   -echo                print commands before execution\n",
            "   -init FILENAME       read/process named file\n",
            "   -[no]header          turn headers on or off\n",
            "   -help                show this message\n",
            "   -html                set output mode to HTML\n",
            "   -interactive         force interactive I/O\n",
            "   -json                set output mode to 'json'\n",
            "   -line                set output mode to 'line'\n",
            "   -list                set output mode to 'list'\n",
            "   -lookaside SIZE N    use N entries of SZ bytes for lookaside memory\n",
            "   -markdown            set output mode to 'markdown'\n",
            "   -maxsize N           maximum size for a --deserialize database\n",
            "   -memtrace            trace all memory allocations and deallocations\n",
            "   -mmap N              default mmap size set to N\n",
            "   -newline SEP         set output row separator. Default: '\\n'\n",
            "   -nofollow            refuse to open symbolic links to database files\n",
            "   -nonce STRING        set the safe-mode escape nonce\n",
            "   -nullvalue TEXT      set text string for NULL values. Default ''\n",
            "   -pagecache SIZE N    use N slots of SZ bytes each for page cache memory\n",
            "   -quote               set output mode to 'quote'\n",
            "   -readonly            open the database read-only\n",
            "   -safe                enable safe-mode\n",
            "   -separator SEP       set output column separator. Default: '|'\n",
            "   -stats               print memory stats before each finalize\n",
            "   -table               set output mode to 'table'\n",
            "   -tabs                set output mode to 'tabs'\n",
            "   -version             show SQLite version\n",
            "   -vfs NAME            use NAME as the default VFS\n",
            "   -zip                 open the file as a ZIP Archive\n"
          ]
        }
      ],
      "source": [
        "!sqlite3 --help\n"
      ]
    },
    {
      "cell_type": "code",
      "source": [
        "!sqlite3 --version"
      ],
      "metadata": {
        "id": "Td5EBZ445_k1",
        "outputId": "4a7483cb-2afe-4cd4-c45a-cac71ad3709e",
        "colab": {
          "base_uri": "https://localhost:8080/"
        }
      },
      "execution_count": 4,
      "outputs": [
        {
          "output_type": "stream",
          "name": "stdout",
          "text": [
            "3.37.2 2022-01-06 13:25:41 872ba256cbf61d9290b571c0e6d82a20c224ca3ad82971edc46b29818d5dalt1\n"
          ]
        }
      ]
    },
    {
      "cell_type": "markdown",
      "metadata": {
        "id": "TsPmnPGpcgWD"
      },
      "source": [
        "## Sample database"
      ]
    },
    {
      "cell_type": "markdown",
      "metadata": {
        "id": "4BMzqqUncjUr"
      },
      "source": [
        "The [Chinook sample](https://www.sqlitetutorial.net/sqlite-sample-database/)\n",
        "\n",
        "- Zip file of [sqlite DB](https://www.sqlitetutorial.net/wp-content/uploads/2018/03/chinook.zip)\n",
        "\n",
        "- [ER diagram](https://www.sqlitetutorial.net/wp-content/uploads/2018/03/sqlite-sample-database-diagram-color.pdf)\n",
        "\n",
        "- [ER symbols/meanings](https://d2slcw3kip6qmk.cloudfront.net/marketing/pages/chart/erd-symbols/ERD-Notation.PNG)\n",
        "\n",
        "- [Draw IO](https://app.diagrams.net/) for creating ER diagrams, flowcharts, etc."
      ]
    },
    {
      "cell_type": "code",
      "execution_count": 5,
      "metadata": {
        "id": "-cTtyfkTb00L",
        "colab": {
          "base_uri": "https://localhost:8080/"
        },
        "outputId": "c71b2d27-1920-4c34-8014-1256f82fabc5"
      },
      "outputs": [
        {
          "output_type": "stream",
          "name": "stdout",
          "text": [
            "Archive:  chinook.zip\n",
            "  Length      Date    Time    Name\n",
            "---------  ---------- -----   ----\n",
            "   884736  2015-11-29 10:53   chinook.db\n",
            "---------                     -------\n",
            "   884736                     1 file\n"
          ]
        }
      ],
      "source": [
        "%%bash\n",
        "[ -f chinook.zip ] ||\n",
        "  curl -s -O https://www.sqlitetutorial.net/wp-content/uploads/2018/03/chinook.zip\n",
        "unzip -l chinook.zip\n"
      ]
    },
    {
      "cell_type": "code",
      "execution_count": 6,
      "metadata": {
        "id": "_tB-o0FHctyU",
        "colab": {
          "base_uri": "https://localhost:8080/"
        },
        "outputId": "f2636d09-32ba-4338-8d36-e3ced3f59510"
      },
      "outputs": [
        {
          "output_type": "stream",
          "name": "stdout",
          "text": [
            "Archive:  chinook.zip\n",
            "  inflating: chinook.db              \n"
          ]
        }
      ],
      "source": [
        "!unzip -u chinook.zip\n"
      ]
    },
    {
      "cell_type": "code",
      "source": [
        "!ls -la"
      ],
      "metadata": {
        "id": "uV_dkqmL8_5U",
        "colab": {
          "base_uri": "https://localhost:8080/"
        },
        "outputId": "f16a4d22-9ff7-4a83-9b9b-2485ab0a18e4"
      },
      "execution_count": 7,
      "outputs": [
        {
          "output_type": "stream",
          "name": "stdout",
          "text": [
            "total 1180\n",
            "drwxr-xr-x 1 root root   4096 Oct 17 19:23 .\n",
            "drwxr-xr-x 1 root root   4096 Oct 17 19:18 ..\n",
            "-rw-r--r-- 1 root root 884736 Nov 29  2015 chinook.db\n",
            "-rw-r--r-- 1 root root 305596 Oct 17 19:23 chinook.zip\n",
            "drwxr-xr-x 4 root root   4096 Oct 14 13:22 .config\n",
            "drwxr-xr-x 1 root root   4096 Oct 14 13:23 sample_data\n"
          ]
        }
      ]
    },
    {
      "cell_type": "code",
      "execution_count": 8,
      "metadata": {
        "id": "apjqGXJDc-nk",
        "colab": {
          "base_uri": "https://localhost:8080/"
        },
        "outputId": "ad124cea-01df-4771-9ddb-c27784126f40"
      },
      "outputs": [
        {
          "output_type": "stream",
          "name": "stdout",
          "text": [
            "albums          employees       invoices        playlists     \n",
            "artists         genres          media_types     tracks        \n",
            "customers       invoice_items   playlist_track\n"
          ]
        }
      ],
      "source": [
        "# Get a list of the tables in the database\n",
        "%%script sqlite3 --column --header chinook.db\n",
        ".tables\n"
      ]
    },
    {
      "cell_type": "code",
      "execution_count": 9,
      "metadata": {
        "id": "2ASYlWtDc4Im",
        "colab": {
          "base_uri": "https://localhost:8080/"
        },
        "outputId": "3ba573db-0f16-4b0a-9e89-09d5c861e82a"
      },
      "outputs": [
        {
          "output_type": "stream",
          "name": "stdout",
          "text": [
            "CREATE TABLE IF NOT EXISTS \"albums\"\r\n",
            "(\r\n",
            "    [AlbumId] INTEGER PRIMARY KEY AUTOINCREMENT NOT NULL,\r\n",
            "    [Title] NVARCHAR(160)  NOT NULL,\r\n",
            "    [ArtistId] INTEGER  NOT NULL,\r\n",
            "    FOREIGN KEY ([ArtistId]) REFERENCES \"artists\" ([ArtistId]) \r\n",
            "\t\tON DELETE NO ACTION ON UPDATE NO ACTION\r\n",
            ");\n",
            "CREATE TABLE sqlite_sequence(name,seq);\n",
            "CREATE TABLE IF NOT EXISTS \"artists\"\r\n",
            "(\r\n",
            "    [ArtistId] INTEGER PRIMARY KEY AUTOINCREMENT NOT NULL,\r\n",
            "    [Name] NVARCHAR(120)\r\n",
            ");\n",
            "CREATE TABLE IF NOT EXISTS \"customers\"\r\n",
            "(\r\n",
            "    [CustomerId] INTEGER PRIMARY KEY AUTOINCREMENT NOT NULL,\r\n",
            "    [FirstName] NVARCHAR(40)  NOT NULL,\r\n",
            "    [LastName] NVARCHAR(20)  NOT NULL,\r\n",
            "    [Company] NVARCHAR(80),\r\n",
            "    [Address] NVARCHAR(70),\r\n",
            "    [City] NVARCHAR(40),\r\n",
            "    [State] NVARCHAR(40),\r\n",
            "    [Country] NVARCHAR(40),\r\n",
            "    [PostalCode] NVARCHAR(10),\r\n",
            "    [Phone] NVARCHAR(24),\r\n",
            "    [Fax] NVARCHAR(24),\r\n",
            "    [Email] NVARCHAR(60)  NOT NULL,\r\n",
            "    [SupportRepId] INTEGER,\r\n",
            "    FOREIGN KEY ([SupportRepId]) REFERENCES \"employees\" ([EmployeeId]) \r\n",
            "\t\tON DELETE NO ACTION ON UPDATE NO ACTION\r\n",
            ");\n",
            "CREATE TABLE IF NOT EXISTS \"employees\"\r\n",
            "(\r\n",
            "    [EmployeeId] INTEGER PRIMARY KEY AUTOINCREMENT NOT NULL,\r\n",
            "    [LastName] NVARCHAR(20)  NOT NULL,\r\n",
            "    [FirstName] NVARCHAR(20)  NOT NULL,\r\n",
            "    [Title] NVARCHAR(30),\r\n",
            "    [ReportsTo] INTEGER,\r\n",
            "    [BirthDate] DATETIME,\r\n",
            "    [HireDate] DATETIME,\r\n",
            "    [Address] NVARCHAR(70),\r\n",
            "    [City] NVARCHAR(40),\r\n",
            "    [State] NVARCHAR(40),\r\n",
            "    [Country] NVARCHAR(40),\r\n",
            "    [PostalCode] NVARCHAR(10),\r\n",
            "    [Phone] NVARCHAR(24),\r\n",
            "    [Fax] NVARCHAR(24),\r\n",
            "    [Email] NVARCHAR(60),\r\n",
            "    FOREIGN KEY ([ReportsTo]) REFERENCES \"employees\" ([EmployeeId]) \r\n",
            "\t\tON DELETE NO ACTION ON UPDATE NO ACTION\r\n",
            ");\n",
            "CREATE TABLE IF NOT EXISTS \"genres\"\r\n",
            "(\r\n",
            "    [GenreId] INTEGER PRIMARY KEY AUTOINCREMENT NOT NULL,\r\n",
            "    [Name] NVARCHAR(120)\r\n",
            ");\n",
            "CREATE TABLE IF NOT EXISTS \"invoices\"\r\n",
            "(\r\n",
            "    [InvoiceId] INTEGER PRIMARY KEY AUTOINCREMENT NOT NULL,\r\n",
            "    [CustomerId] INTEGER  NOT NULL,\r\n",
            "    [InvoiceDate] DATETIME  NOT NULL,\r\n",
            "    [BillingAddress] NVARCHAR(70),\r\n",
            "    [BillingCity] NVARCHAR(40),\r\n",
            "    [BillingState] NVARCHAR(40),\r\n",
            "    [BillingCountry] NVARCHAR(40),\r\n",
            "    [BillingPostalCode] NVARCHAR(10),\r\n",
            "    [Total] NUMERIC(10,2)  NOT NULL,\r\n",
            "    FOREIGN KEY ([CustomerId]) REFERENCES \"customers\" ([CustomerId]) \r\n",
            "\t\tON DELETE NO ACTION ON UPDATE NO ACTION\r\n",
            ");\n",
            "CREATE TABLE IF NOT EXISTS \"invoice_items\"\r\n",
            "(\r\n",
            "    [InvoiceLineId] INTEGER PRIMARY KEY AUTOINCREMENT NOT NULL,\r\n",
            "    [InvoiceId] INTEGER  NOT NULL,\r\n",
            "    [TrackId] INTEGER  NOT NULL,\r\n",
            "    [UnitPrice] NUMERIC(10,2)  NOT NULL,\r\n",
            "    [Quantity] INTEGER  NOT NULL,\r\n",
            "    FOREIGN KEY ([InvoiceId]) REFERENCES \"invoices\" ([InvoiceId]) \r\n",
            "\t\tON DELETE NO ACTION ON UPDATE NO ACTION,\r\n",
            "    FOREIGN KEY ([TrackId]) REFERENCES \"tracks\" ([TrackId]) \r\n",
            "\t\tON DELETE NO ACTION ON UPDATE NO ACTION\r\n",
            ");\n",
            "CREATE TABLE IF NOT EXISTS \"media_types\"\r\n",
            "(\r\n",
            "    [MediaTypeId] INTEGER PRIMARY KEY AUTOINCREMENT NOT NULL,\r\n",
            "    [Name] NVARCHAR(120)\r\n",
            ");\n",
            "CREATE TABLE IF NOT EXISTS \"playlists\"\r\n",
            "(\r\n",
            "    [PlaylistId] INTEGER PRIMARY KEY AUTOINCREMENT NOT NULL,\r\n",
            "    [Name] NVARCHAR(120)\r\n",
            ");\n",
            "CREATE TABLE IF NOT EXISTS \"playlist_track\"\r\n",
            "(\r\n",
            "    [PlaylistId] INTEGER  NOT NULL,\r\n",
            "    [TrackId] INTEGER  NOT NULL,\r\n",
            "    CONSTRAINT [PK_PlaylistTrack] PRIMARY KEY  ([PlaylistId], [TrackId]),\r\n",
            "    FOREIGN KEY ([PlaylistId]) REFERENCES \"playlists\" ([PlaylistId]) \r\n",
            "\t\tON DELETE NO ACTION ON UPDATE NO ACTION,\r\n",
            "    FOREIGN KEY ([TrackId]) REFERENCES \"tracks\" ([TrackId]) \r\n",
            "\t\tON DELETE NO ACTION ON UPDATE NO ACTION\r\n",
            ");\n",
            "CREATE TABLE IF NOT EXISTS \"tracks\"\r\n",
            "(\r\n",
            "    [TrackId] INTEGER PRIMARY KEY AUTOINCREMENT NOT NULL,\r\n",
            "    [Name] NVARCHAR(200)  NOT NULL,\r\n",
            "    [AlbumId] INTEGER,\r\n",
            "    [MediaTypeId] INTEGER  NOT NULL,\r\n",
            "    [GenreId] INTEGER,\r\n",
            "    [Composer] NVARCHAR(220),\r\n",
            "    [Milliseconds] INTEGER  NOT NULL,\r\n",
            "    [Bytes] INTEGER,\r\n",
            "    [UnitPrice] NUMERIC(10,2)  NOT NULL,\r\n",
            "    FOREIGN KEY ([AlbumId]) REFERENCES \"albums\" ([AlbumId]) \r\n",
            "\t\tON DELETE NO ACTION ON UPDATE NO ACTION,\r\n",
            "    FOREIGN KEY ([GenreId]) REFERENCES \"genres\" ([GenreId]) \r\n",
            "\t\tON DELETE NO ACTION ON UPDATE NO ACTION,\r\n",
            "    FOREIGN KEY ([MediaTypeId]) REFERENCES \"media_types\" ([MediaTypeId]) \r\n",
            "\t\tON DELETE NO ACTION ON UPDATE NO ACTION\r\n",
            ");\n",
            "CREATE INDEX [IFK_AlbumArtistId] ON \"albums\" ([ArtistId]);\n",
            "CREATE INDEX [IFK_CustomerSupportRepId] ON \"customers\" ([SupportRepId]);\n",
            "CREATE INDEX [IFK_EmployeeReportsTo] ON \"employees\" ([ReportsTo]);\n",
            "CREATE INDEX [IFK_InvoiceCustomerId] ON \"invoices\" ([CustomerId]);\n",
            "CREATE INDEX [IFK_InvoiceLineInvoiceId] ON \"invoice_items\" ([InvoiceId]);\n",
            "CREATE INDEX [IFK_InvoiceLineTrackId] ON \"invoice_items\" ([TrackId]);\n",
            "CREATE INDEX [IFK_PlaylistTrackTrackId] ON \"playlist_track\" ([TrackId]);\n",
            "CREATE INDEX [IFK_TrackAlbumId] ON \"tracks\" ([AlbumId]);\n",
            "CREATE INDEX [IFK_TrackGenreId] ON \"tracks\" ([GenreId]);\n",
            "CREATE INDEX [IFK_TrackMediaTypeId] ON \"tracks\" ([MediaTypeId]);\n",
            "CREATE TABLE sqlite_stat1(tbl,idx,stat);\n"
          ]
        }
      ],
      "source": [
        "# Show the schema for the entire database\n",
        "%%script sqlite3 --column --header chinook.db\n",
        ".schema\n"
      ]
    },
    {
      "cell_type": "code",
      "execution_count": 10,
      "metadata": {
        "id": "7YbqJ-RdgcnL",
        "colab": {
          "base_uri": "https://localhost:8080/"
        },
        "outputId": "d84023df-7c39-4ad0-cf78-d0541430ef9a"
      },
      "outputs": [
        {
          "output_type": "stream",
          "name": "stdout",
          "text": [
            "EmployeeId  LastName  FirstName  Title                ReportsTo  BirthDate            HireDate             Address                      City        State  Country  PostalCode  Phone              Fax                Email                   \n",
            "----------  --------  ---------  -------------------  ---------  -------------------  -------------------  ---------------------------  ----------  -----  -------  ----------  -----------------  -----------------  ------------------------\n",
            "1           Adams     Andrew     General Manager                 1962-02-18 00:00:00  2002-08-14 00:00:00  11120 Jasper Ave NW          Edmonton    AB     Canada   T5K 2N1     +1 (780) 428-9482  +1 (780) 428-3457  andrew@chinookcorp.com  \n",
            "2           Edwards   Nancy      Sales Manager        1          1958-12-08 00:00:00  2002-05-01 00:00:00  825 8 Ave SW                 Calgary     AB     Canada   T2P 2T3     +1 (403) 262-3443  +1 (403) 262-3322  nancy@chinookcorp.com   \n",
            "3           Peacock   Jane       Sales Support Agent  2          1973-08-29 00:00:00  2002-04-01 00:00:00  1111 6 Ave SW                Calgary     AB     Canada   T2P 5M5     +1 (403) 262-3443  +1 (403) 262-6712  jane@chinookcorp.com    \n",
            "4           Park      Margaret   Sales Support Agent  2          1947-09-19 00:00:00  2003-05-03 00:00:00  683 10 Street SW             Calgary     AB     Canada   T2P 5G3     +1 (403) 263-4423  +1 (403) 263-4289  margaret@chinookcorp.com\n",
            "5           Johnson   Steve      Sales Support Agent  2          1965-03-03 00:00:00  2003-10-17 00:00:00  7727B 41 Ave                 Calgary     AB     Canada   T3B 1Y7     1 (780) 836-9987   1 (780) 836-9543   steve@chinookcorp.com   \n",
            "6           Mitchell  Michael    IT Manager           1          1973-07-01 00:00:00  2003-10-17 00:00:00  5827 Bowness Road NW         Calgary     AB     Canada   T3B 0C5     +1 (403) 246-9887  +1 (403) 246-9899  michael@chinookcorp.com \n",
            "7           King      Robert     IT Staff             6          1970-05-29 00:00:00  2004-01-02 00:00:00  590 Columbia Boulevard West  Lethbridge  AB     Canada   T1K 5N8     +1 (403) 456-9986  +1 (403) 456-8485  robert@chinookcorp.com  \n",
            "8           Callahan  Laura      IT Staff             6          1968-01-09 00:00:00  2004-03-04 00:00:00  923 7 ST NW                  Lethbridge  AB     Canada   T1H 1Y8     +1 (403) 467-3351  +1 (403) 467-8772  laura@chinookcorp.com   \n"
          ]
        }
      ],
      "source": [
        "# Select the first 10 entries from the employees table\n",
        "%%script sqlite3 --column --header chinook.db\n",
        "select *\n",
        "from employees\n",
        "limit 10\n"
      ]
    },
    {
      "cell_type": "code",
      "source": [
        "# Count the number of unique albums\n",
        "%%script sqlite3 --column --header chinook.db\n",
        "select count(distinct AlbumID)\n",
        "from tracks\n"
      ],
      "metadata": {
        "id": "7ZpK5AHpOm_W",
        "colab": {
          "base_uri": "https://localhost:8080/"
        },
        "outputId": "6dd16b4d-2260-449f-f099-5acdc2d71908"
      },
      "execution_count": 11,
      "outputs": [
        {
          "output_type": "stream",
          "name": "stdout",
          "text": [
            "count(distinct AlbumID)\n",
            "-----------------------\n",
            "347                    \n"
          ]
        }
      ]
    },
    {
      "cell_type": "code",
      "source": [
        "# Select the first 10 entries from the albums table\n",
        "%%script sqlite3 --column --header chinook.db\n",
        "select *\n",
        "from albums\n",
        "limit 10\n"
      ],
      "metadata": {
        "id": "NHN3vpVS9yAj",
        "colab": {
          "base_uri": "https://localhost:8080/"
        },
        "outputId": "0d9e7d82-c324-4366-a56f-3192c50946ff"
      },
      "execution_count": 12,
      "outputs": [
        {
          "output_type": "stream",
          "name": "stdout",
          "text": [
            "AlbumId  Title                                  ArtistId\n",
            "-------  -------------------------------------  --------\n",
            "1        For Those About To Rock We Salute You  1       \n",
            "2        Balls to the Wall                      2       \n",
            "3        Restless and Wild                      2       \n",
            "4        Let There Be Rock                      1       \n",
            "5        Big Ones                               3       \n",
            "6        Jagged Little Pill                     4       \n",
            "7        Facelift                               5       \n",
            "8        Warner 25 Anos                         6       \n",
            "9        Plays Metallica By Four Cellos         7       \n",
            "10       Audioslave                             8       \n"
          ]
        }
      ]
    },
    {
      "cell_type": "code",
      "source": [
        "# Select the first 10 entries from the artists table\n",
        "%%script sqlite3 --column --header chinook.db\n",
        "select *\n",
        "from artists\n",
        "limit 10\n"
      ],
      "metadata": {
        "id": "kMQD_DYO9-2T",
        "colab": {
          "base_uri": "https://localhost:8080/"
        },
        "outputId": "f6a9cafc-f002-4587-947d-00326f371bd0"
      },
      "execution_count": 13,
      "outputs": [
        {
          "output_type": "stream",
          "name": "stdout",
          "text": [
            "ArtistId  Name                \n",
            "--------  --------------------\n",
            "1         AC/DC               \n",
            "2         Accept              \n",
            "3         Aerosmith           \n",
            "4         Alanis Morissette   \n",
            "5         Alice In Chains     \n",
            "6         Antônio Carlos Jobim\n",
            "7         Apocalyptica        \n",
            "8         Audioslave          \n",
            "9         BackBeat            \n",
            "10        Billy Cobham        \n"
          ]
        }
      ]
    },
    {
      "cell_type": "code",
      "source": [
        "# Select the first 10 entries from joining the artists and albums tables\n",
        "%%script sqlite3 --column --header chinook.db\n",
        "select *\n",
        "from artists\n",
        "join albums\n",
        "on artists.ArtistID = albums.ArtistID\n",
        "limit 10\n"
      ],
      "metadata": {
        "id": "kgOA-g57-MnC",
        "colab": {
          "base_uri": "https://localhost:8080/"
        },
        "outputId": "6ddcf5e7-b849-4dfc-ea98-0cb226fddb36"
      },
      "execution_count": 14,
      "outputs": [
        {
          "output_type": "stream",
          "name": "stdout",
          "text": [
            "ArtistId  Name                  AlbumId  Title                                  ArtistId\n",
            "--------  --------------------  -------  -------------------------------------  --------\n",
            "1         AC/DC                 1        For Those About To Rock We Salute You  1       \n",
            "2         Accept                2        Balls to the Wall                      2       \n",
            "2         Accept                3        Restless and Wild                      2       \n",
            "1         AC/DC                 4        Let There Be Rock                      1       \n",
            "3         Aerosmith             5        Big Ones                               3       \n",
            "4         Alanis Morissette     6        Jagged Little Pill                     4       \n",
            "5         Alice In Chains       7        Facelift                               5       \n",
            "6         Antônio Carlos Jobim  8        Warner 25 Anos                         6       \n",
            "7         Apocalyptica          9        Plays Metallica By Four Cellos         7       \n",
            "8         Audioslave            10       Audioslave                             8       \n"
          ]
        }
      ]
    },
    {
      "cell_type": "code",
      "source": [
        "# Select albums by AC/DC\n",
        "%%script sqlite3 --column --header chinook.db\n",
        "select *\n",
        "from artists\n",
        "join albums\n",
        "on artists.ArtistID = albums.ArtistID\n",
        "where Name = 'AC/DC'\n",
        "limit 10\n"
      ],
      "metadata": {
        "id": "l1H3nkPE-0ft",
        "colab": {
          "base_uri": "https://localhost:8080/"
        },
        "outputId": "bb235e19-7328-4b0b-8396-1c10ae130a26"
      },
      "execution_count": 15,
      "outputs": [
        {
          "output_type": "stream",
          "name": "stdout",
          "text": [
            "ArtistId  Name   AlbumId  Title                                  ArtistId\n",
            "--------  -----  -------  -------------------------------------  --------\n",
            "1         AC/DC  1        For Those About To Rock We Salute You  1       \n",
            "1         AC/DC  4        Let There Be Rock                      1       \n"
          ]
        }
      ]
    },
    {
      "cell_type": "code",
      "source": [
        "# Select some fields from the employees table\n",
        "%%script sqlite3 --column --header chinook.db\n",
        "select EmployeeId, LastName, FirstName, Title, ReportsTo\n",
        "from employees\n"
      ],
      "metadata": {
        "id": "nl0Z3WqaAzgd",
        "colab": {
          "base_uri": "https://localhost:8080/"
        },
        "outputId": "4b5370b3-fe23-4e62-d6ea-6d904d384bee"
      },
      "execution_count": 16,
      "outputs": [
        {
          "output_type": "stream",
          "name": "stdout",
          "text": [
            "EmployeeId  LastName  FirstName  Title                ReportsTo\n",
            "----------  --------  ---------  -------------------  ---------\n",
            "1           Adams     Andrew     General Manager               \n",
            "2           Edwards   Nancy      Sales Manager        1        \n",
            "3           Peacock   Jane       Sales Support Agent  2        \n",
            "4           Park      Margaret   Sales Support Agent  2        \n",
            "5           Johnson   Steve      Sales Support Agent  2        \n",
            "6           Mitchell  Michael    IT Manager           1        \n",
            "7           King      Robert     IT Staff             6        \n",
            "8           Callahan  Laura      IT Staff             6        \n"
          ]
        }
      ]
    },
    {
      "cell_type": "code",
      "source": [
        "# Select employees and their bosses\n",
        "%%script sqlite3 --column --header chinook.db\n",
        "select emp1.EmployeeId, emp1.LastName, emp1.FirstName, emp1.Title, emp1.ReportsTo, emp2.ReportsTo, emp2.EmployeeId, emp2.LastName, emp2.FirstName\n",
        "from employees as emp1\n",
        "join employees as emp2\n",
        "on emp1.ReportsTo = emp2.EmployeeID\n"
      ],
      "metadata": {
        "id": "fF0_WlvDBMvJ",
        "colab": {
          "base_uri": "https://localhost:8080/"
        },
        "outputId": "f50e9c6e-2355-471c-9a12-f369e367031a"
      },
      "execution_count": 17,
      "outputs": [
        {
          "output_type": "stream",
          "name": "stdout",
          "text": [
            "EmployeeId  LastName  FirstName  Title                ReportsTo  ReportsTo  EmployeeId  LastName  FirstName\n",
            "----------  --------  ---------  -------------------  ---------  ---------  ----------  --------  ---------\n",
            "2           Edwards   Nancy      Sales Manager        1                     1           Adams     Andrew   \n",
            "3           Peacock   Jane       Sales Support Agent  2          1          2           Edwards   Nancy    \n",
            "4           Park      Margaret   Sales Support Agent  2          1          2           Edwards   Nancy    \n",
            "5           Johnson   Steve      Sales Support Agent  2          1          2           Edwards   Nancy    \n",
            "6           Mitchell  Michael    IT Manager           1                     1           Adams     Andrew   \n",
            "7           King      Robert     IT Staff             6          1          6           Mitchell  Michael  \n",
            "8           Callahan  Laura      IT Staff             6          1          6           Mitchell  Michael  \n"
          ]
        }
      ]
    },
    {
      "cell_type": "code",
      "source": [
        "# The first three entries from a self cross join of employees\n",
        "%%script sqlite3 --column --header chinook.db\n",
        "select *\n",
        "from employees as emp1\n",
        "join employees as emp2\n",
        "limit 3"
      ],
      "metadata": {
        "id": "jrXhGDjICgPU",
        "colab": {
          "base_uri": "https://localhost:8080/"
        },
        "outputId": "57251ee9-e46d-4e21-cf11-d0193d598172"
      },
      "execution_count": 18,
      "outputs": [
        {
          "output_type": "stream",
          "name": "stdout",
          "text": [
            "EmployeeId  LastName  FirstName  Title            ReportsTo  BirthDate            HireDate             Address              City      State  Country  PostalCode  Phone              Fax                Email                   EmployeeId  LastName  FirstName  Title                ReportsTo  BirthDate            HireDate             Address              City      State  Country  PostalCode  Phone              Fax                Email                 \n",
            "----------  --------  ---------  ---------------  ---------  -------------------  -------------------  -------------------  --------  -----  -------  ----------  -----------------  -----------------  ----------------------  ----------  --------  ---------  -------------------  ---------  -------------------  -------------------  -------------------  --------  -----  -------  ----------  -----------------  -----------------  ----------------------\n",
            "1           Adams     Andrew     General Manager             1962-02-18 00:00:00  2002-08-14 00:00:00  11120 Jasper Ave NW  Edmonton  AB     Canada   T5K 2N1     +1 (780) 428-9482  +1 (780) 428-3457  andrew@chinookcorp.com  1           Adams     Andrew     General Manager                 1962-02-18 00:00:00  2002-08-14 00:00:00  11120 Jasper Ave NW  Edmonton  AB     Canada   T5K 2N1     +1 (780) 428-9482  +1 (780) 428-3457  andrew@chinookcorp.com\n",
            "1           Adams     Andrew     General Manager             1962-02-18 00:00:00  2002-08-14 00:00:00  11120 Jasper Ave NW  Edmonton  AB     Canada   T5K 2N1     +1 (780) 428-9482  +1 (780) 428-3457  andrew@chinookcorp.com  2           Edwards   Nancy      Sales Manager        1          1958-12-08 00:00:00  2002-05-01 00:00:00  825 8 Ave SW         Calgary   AB     Canada   T2P 2T3     +1 (403) 262-3443  +1 (403) 262-3322  nancy@chinookcorp.com \n",
            "1           Adams     Andrew     General Manager             1962-02-18 00:00:00  2002-08-14 00:00:00  11120 Jasper Ave NW  Edmonton  AB     Canada   T5K 2N1     +1 (780) 428-9482  +1 (780) 428-3457  andrew@chinookcorp.com  3           Peacock   Jane       Sales Support Agent  2          1973-08-29 00:00:00  2002-04-01 00:00:00  1111 6 Ave SW        Calgary   AB     Canada   T2P 5M5     +1 (403) 262-3443  +1 (403) 262-6712  jane@chinookcorp.com  \n"
          ]
        }
      ]
    },
    {
      "cell_type": "code",
      "source": [
        "# Select a few columns from a self cross joins of employees\n",
        "%%script sqlite3 --column --header chinook.db\n",
        "select emp1.EmployeeID, emp1.FirstName, emp1.ReportsTo, emp2.EmployeeID, emp2.FirstName\n",
        "from employees as emp1\n",
        "join employees as emp2\n"
      ],
      "metadata": {
        "id": "fW7hRQqwDXsg",
        "colab": {
          "base_uri": "https://localhost:8080/"
        },
        "outputId": "401f3507-fd2f-4412-c8c3-3d111b2cf943"
      },
      "execution_count": 19,
      "outputs": [
        {
          "output_type": "stream",
          "name": "stdout",
          "text": [
            "EmployeeId  FirstName  ReportsTo  EmployeeId  FirstName\n",
            "----------  ---------  ---------  ----------  ---------\n",
            "1           Andrew                1           Andrew   \n",
            "1           Andrew                2           Nancy    \n",
            "1           Andrew                3           Jane     \n",
            "1           Andrew                4           Margaret \n",
            "1           Andrew                5           Steve    \n",
            "1           Andrew                6           Michael  \n",
            "1           Andrew                7           Robert   \n",
            "1           Andrew                8           Laura    \n",
            "2           Nancy      1          1           Andrew   \n",
            "2           Nancy      1          2           Nancy    \n",
            "2           Nancy      1          3           Jane     \n",
            "2           Nancy      1          4           Margaret \n",
            "2           Nancy      1          5           Steve    \n",
            "2           Nancy      1          6           Michael  \n",
            "2           Nancy      1          7           Robert   \n",
            "2           Nancy      1          8           Laura    \n",
            "3           Jane       2          1           Andrew   \n",
            "3           Jane       2          2           Nancy    \n",
            "3           Jane       2          3           Jane     \n",
            "3           Jane       2          4           Margaret \n",
            "3           Jane       2          5           Steve    \n",
            "3           Jane       2          6           Michael  \n",
            "3           Jane       2          7           Robert   \n",
            "3           Jane       2          8           Laura    \n",
            "4           Margaret   2          1           Andrew   \n",
            "4           Margaret   2          2           Nancy    \n",
            "4           Margaret   2          3           Jane     \n",
            "4           Margaret   2          4           Margaret \n",
            "4           Margaret   2          5           Steve    \n",
            "4           Margaret   2          6           Michael  \n",
            "4           Margaret   2          7           Robert   \n",
            "4           Margaret   2          8           Laura    \n",
            "5           Steve      2          1           Andrew   \n",
            "5           Steve      2          2           Nancy    \n",
            "5           Steve      2          3           Jane     \n",
            "5           Steve      2          4           Margaret \n",
            "5           Steve      2          5           Steve    \n",
            "5           Steve      2          6           Michael  \n",
            "5           Steve      2          7           Robert   \n",
            "5           Steve      2          8           Laura    \n",
            "6           Michael    1          1           Andrew   \n",
            "6           Michael    1          2           Nancy    \n",
            "6           Michael    1          3           Jane     \n",
            "6           Michael    1          4           Margaret \n",
            "6           Michael    1          5           Steve    \n",
            "6           Michael    1          6           Michael  \n",
            "6           Michael    1          7           Robert   \n",
            "6           Michael    1          8           Laura    \n",
            "7           Robert     6          1           Andrew   \n",
            "7           Robert     6          2           Nancy    \n",
            "7           Robert     6          3           Jane     \n",
            "7           Robert     6          4           Margaret \n",
            "7           Robert     6          5           Steve    \n",
            "7           Robert     6          6           Michael  \n",
            "7           Robert     6          7           Robert   \n",
            "7           Robert     6          8           Laura    \n",
            "8           Laura      6          1           Andrew   \n",
            "8           Laura      6          2           Nancy    \n",
            "8           Laura      6          3           Jane     \n",
            "8           Laura      6          4           Margaret \n",
            "8           Laura      6          5           Steve    \n",
            "8           Laura      6          6           Michael  \n",
            "8           Laura      6          7           Robert   \n",
            "8           Laura      6          8           Laura    \n"
          ]
        }
      ]
    },
    {
      "cell_type": "code",
      "source": [
        "# Select the first 10 entries from a self cross joins of employees\n",
        "%%script sqlite3 --column --header chinook.db\n",
        "select emp1.EmployeeID, emp1.FirstName, emp1.ReportsTo, emp2.EmployeeID, emp2.FirstName\n",
        "from employees as emp1\n",
        "join employees as emp2\n",
        "limit 10"
      ],
      "metadata": {
        "id": "DFcC0qD5D4fE",
        "colab": {
          "base_uri": "https://localhost:8080/"
        },
        "outputId": "4cb5b6d0-e0e6-481d-a648-87392f06c09d"
      },
      "execution_count": 20,
      "outputs": [
        {
          "output_type": "stream",
          "name": "stdout",
          "text": [
            "EmployeeId  FirstName  ReportsTo  EmployeeId  FirstName\n",
            "----------  ---------  ---------  ----------  ---------\n",
            "1           Andrew                1           Andrew   \n",
            "1           Andrew                2           Nancy    \n",
            "1           Andrew                3           Jane     \n",
            "1           Andrew                4           Margaret \n",
            "1           Andrew                5           Steve    \n",
            "1           Andrew                6           Michael  \n",
            "1           Andrew                7           Robert   \n",
            "1           Andrew                8           Laura    \n",
            "2           Nancy      1          1           Andrew   \n",
            "2           Nancy      1          2           Nancy    \n"
          ]
        }
      ]
    },
    {
      "cell_type": "code",
      "source": [
        "# Select employees and their supervisors\n",
        "%%script sqlite3 --column --header chinook.db\n",
        "select emp1.EmployeeID, emp1.FirstName, emp1.ReportsTo, emp2.EmployeeID, emp2.FirstName\n",
        "from employees as emp1\n",
        "join employees as emp2\n",
        "where emp1.ReportsTo = emp2.EmployeeID\n",
        "order by emp1.EmployeeID"
      ],
      "metadata": {
        "id": "1TzoCHluFe6h",
        "colab": {
          "base_uri": "https://localhost:8080/"
        },
        "outputId": "ee018462-3619-4389-c59c-c1d7e061092d"
      },
      "execution_count": 21,
      "outputs": [
        {
          "output_type": "stream",
          "name": "stdout",
          "text": [
            "EmployeeId  FirstName  ReportsTo  EmployeeId  FirstName\n",
            "----------  ---------  ---------  ----------  ---------\n",
            "2           Nancy      1          1           Andrew   \n",
            "3           Jane       2          2           Nancy    \n",
            "4           Margaret   2          2           Nancy    \n",
            "5           Steve      2          2           Nancy    \n",
            "6           Michael    1          1           Andrew   \n",
            "7           Robert     6          6           Michael  \n",
            "8           Laura      6          6           Michael  \n"
          ]
        }
      ]
    },
    {
      "cell_type": "markdown",
      "source": [
        "### Building a complex join using a CTE\n"
      ],
      "metadata": {
        "id": "6bXTNk0ITz9I"
      }
    },
    {
      "cell_type": "code",
      "source": [
        "# Select customers, their rep, and the rep's supervisor\n",
        "## uses CTEs\n",
        "%%script sqlite3 --column --header chinook.db\n",
        "\n",
        "with\n",
        "emp as (\n",
        "  select EmployeeID, FirstName, Lastname, ReportsTo\n",
        "  from employees\n",
        ")\n",
        "\n",
        "select *\n",
        "from emp\n",
        "limit 10\n",
        "\n"
      ],
      "metadata": {
        "id": "xIxOiEpBT6IV",
        "colab": {
          "base_uri": "https://localhost:8080/"
        },
        "outputId": "14bda270-253c-41eb-df21-7d3628c71868"
      },
      "execution_count": 22,
      "outputs": [
        {
          "output_type": "stream",
          "name": "stdout",
          "text": [
            "EmployeeID  FirstName  Lastname  ReportsTo\n",
            "----------  ---------  --------  ---------\n",
            "1           Andrew     Adams              \n",
            "2           Nancy      Edwards   1        \n",
            "3           Jane       Peacock   2        \n",
            "4           Margaret   Park      2        \n",
            "5           Steve      Johnson   2        \n",
            "6           Michael    Mitchell  1        \n",
            "7           Robert     King      6        \n",
            "8           Laura      Callahan  6        \n"
          ]
        }
      ]
    },
    {
      "cell_type": "code",
      "source": [
        "# Select customers, their rep, and the rep's supervisor\n",
        "## uses CTEs\n",
        "%%script sqlite3 --column --header chinook.db\n",
        "\n",
        "with\n",
        "emp as (\n",
        "  select EmployeeID, FirstName, Lastname, ReportsTo\n",
        "  from employees\n",
        "),\n",
        "reps as (\n",
        "  select *\n",
        "  from emp\n",
        ")\n",
        "\n",
        "select *\n",
        "from reps\n"
      ],
      "metadata": {
        "id": "-vUruJdeUQP4",
        "colab": {
          "base_uri": "https://localhost:8080/"
        },
        "outputId": "c047bfca-27b9-44fa-dc14-a68db793b988"
      },
      "execution_count": 23,
      "outputs": [
        {
          "output_type": "stream",
          "name": "stdout",
          "text": [
            "EmployeeID  FirstName  Lastname  ReportsTo\n",
            "----------  ---------  --------  ---------\n",
            "1           Andrew     Adams              \n",
            "2           Nancy      Edwards   1        \n",
            "3           Jane       Peacock   2        \n",
            "4           Margaret   Park      2        \n",
            "5           Steve      Johnson   2        \n",
            "6           Michael    Mitchell  1        \n",
            "7           Robert     King      6        \n",
            "8           Laura      Callahan  6        \n"
          ]
        }
      ]
    },
    {
      "cell_type": "code",
      "source": [
        "# Select customers, their rep, and the rep's supervisor\n",
        "## uses CTEs\n",
        "%%script sqlite3 --column --header chinook.db\n",
        "\n",
        "with\n",
        "emp as (\n",
        "  select EmployeeID, FirstName, Lastname, ReportsTo\n",
        "  from employees\n",
        "),\n",
        "reps as (\n",
        "  select EmployeeID, FirstName, Lastname, ReportsTo\n",
        "  from emp\n",
        "),\n",
        "supervisors as (\n",
        "  select EmployeeID, FirstName, Lastname\n",
        "  from emp\n",
        ")\n",
        "\n",
        "select *\n",
        "from supervisors\n",
        "\n"
      ],
      "metadata": {
        "id": "TgQERrO-Uk_N",
        "colab": {
          "base_uri": "https://localhost:8080/"
        },
        "outputId": "305bfa90-1561-4f71-86cf-754f4ff0737c"
      },
      "execution_count": 24,
      "outputs": [
        {
          "output_type": "stream",
          "name": "stdout",
          "text": [
            "EmployeeID  FirstName  Lastname\n",
            "----------  ---------  --------\n",
            "1           Andrew     Adams   \n",
            "2           Nancy      Edwards \n",
            "3           Jane       Peacock \n",
            "4           Margaret   Park    \n",
            "5           Steve      Johnson \n",
            "6           Michael    Mitchell\n",
            "7           Robert     King    \n",
            "8           Laura      Callahan\n"
          ]
        }
      ]
    },
    {
      "cell_type": "code",
      "source": [
        "# Select customers, their rep, and the rep's supervisor\n",
        "## uses CTEs\n",
        "%%script sqlite3 --column --header chinook.db\n",
        "\n",
        "with\n",
        "emp as (\n",
        "  select EmployeeID, FirstName, Lastname, ReportsTo\n",
        "  from employees\n",
        "),\n",
        "reps as (\n",
        "  select EmployeeID, FirstName, Lastname, ReportsTo\n",
        "  from emp\n",
        "),\n",
        "supervisors as (\n",
        "  select EmployeeID, FirstName, Lastname\n",
        "  from emp\n",
        "),\n",
        "workers as (\n",
        "  select r.EmployeeID as \"EmpID\", r.Firstname as \"Rep\", r.ReportsTo as \"ReportID\", s.EmployeeID as \"SuperID\", s.FirstName as \"Supervisor\"\n",
        "  from reps as r\n",
        "  join supervisors as s\n",
        "  where r.ReportsTo = s.EmployeeID\n",
        ")\n",
        "\n",
        "select *\n",
        "from workers\n",
        "\n",
        "\n"
      ],
      "metadata": {
        "id": "NfQH-YKLUu5J",
        "colab": {
          "base_uri": "https://localhost:8080/"
        },
        "outputId": "4d8dcdd2-41a3-4ae7-a823-ba282095e310"
      },
      "execution_count": 25,
      "outputs": [
        {
          "output_type": "stream",
          "name": "stdout",
          "text": [
            "EmpID  Rep       ReportID  SuperID  Supervisor\n",
            "-----  --------  --------  -------  ----------\n",
            "2      Nancy     1         1        Andrew    \n",
            "3      Jane      2         2        Nancy     \n",
            "4      Margaret  2         2        Nancy     \n",
            "5      Steve     2         2        Nancy     \n",
            "6      Michael   1         1        Andrew    \n",
            "7      Robert    6         6        Michael   \n",
            "8      Laura     6         6        Michael   \n"
          ]
        }
      ]
    },
    {
      "cell_type": "code",
      "source": [
        "# Select customers, their rep, and the rep's supervisor\n",
        "## uses CTEs\n",
        "%%script sqlite3 --column --header chinook.db\n",
        "\n",
        "with\n",
        "emp as (\n",
        "  select EmployeeID, FirstName, Lastname, ReportsTo\n",
        "  from employees\n",
        "),\n",
        "reps as (\n",
        "  select EmployeeID, FirstName, Lastname, ReportsTo\n",
        "  from emp\n",
        "),\n",
        "supervisors as (\n",
        "  select EmployeeID, FirstName, Lastname\n",
        "  from emp\n",
        "),\n",
        "workers as (\n",
        "  select r.EmployeeID as \"EmpID\", r.Firstname as \"Rep\", r.ReportsTo as \"ReportID\", s.EmployeeID as \"SuperID\", s.FirstName as \"Supervisor\"\n",
        "  from reps as r\n",
        "  join supervisors as s\n",
        "  where r.ReportsTo = s.EmployeeID\n",
        "),\n",
        "cust as (\n",
        "  select CustomerID, FirstName as \"Customer\", SupportRepID\n",
        "  from customers\n",
        ")\n",
        "\n",
        "select *\n",
        "from cust\n",
        "limit 10"
      ],
      "metadata": {
        "id": "N1Rs3KKvU9Aw",
        "colab": {
          "base_uri": "https://localhost:8080/"
        },
        "outputId": "ac864874-16c4-4fd3-fefe-d11cac1fbb10"
      },
      "execution_count": 26,
      "outputs": [
        {
          "output_type": "stream",
          "name": "stdout",
          "text": [
            "CustomerID  Customer   SupportRepID\n",
            "----------  ---------  ------------\n",
            "1           Luís       3           \n",
            "2           Leonie     5           \n",
            "3           François   3           \n",
            "4           Bjørn      4           \n",
            "5           František  4           \n",
            "6           Helena     5           \n",
            "7           Astrid     5           \n",
            "8           Daan       4           \n",
            "9           Kara       4           \n",
            "10          Eduardo    4           \n"
          ]
        }
      ]
    },
    {
      "cell_type": "code",
      "source": [
        "# Select customers, their rep, and the rep's supervisor\n",
        "## uses CTEs\n",
        "%%script sqlite3 --column --header chinook.db\n",
        "\n",
        "with\n",
        "emp as (\n",
        "  select EmployeeID, FirstName, Lastname, ReportsTo, Title\n",
        "  from employees\n",
        "),\n",
        "reps as (\n",
        "  select EmployeeID, FirstName, Lastname, ReportsTo\n",
        "  from emp\n",
        "  where Title = \"Sales Support Agent\"\n",
        "),\n",
        "supervisors as (\n",
        "  select EmployeeID, FirstName, Lastname\n",
        "  from emp\n",
        "  where Title != \"Sales Support Agent\"\n",
        "\n",
        "),\n",
        "workers as (\n",
        "  select r.EmployeeID as \"EmpID\", r.Firstname as \"Rep\", r.ReportsTo as \"ReportID\", s.EmployeeID as \"SuperID\", s.FirstName as \"Supervisor\"\n",
        "  from reps as r\n",
        "  join supervisors as s\n",
        "  where r.ReportsTo = s.EmployeeID\n",
        "),\n",
        "cust as (\n",
        "  select CustomerID, FirstName as \"Customer\", SupportRepID\n",
        "  from customers\n",
        "),\n",
        "cust_rep_super as (\n",
        "  select Customer, Rep, Supervisor\n",
        "  from cust\n",
        "  join workers\n",
        "  where SupportRepID = EmpID\n",
        ")\n",
        "\n",
        "SELECT *\n",
        "FROM cust_rep_super\n",
        "limit 10\n"
      ],
      "metadata": {
        "id": "soAu4HzS92l6",
        "colab": {
          "base_uri": "https://localhost:8080/"
        },
        "outputId": "443e937a-708a-442f-c160-cebe877c046c"
      },
      "execution_count": 27,
      "outputs": [
        {
          "output_type": "stream",
          "name": "stdout",
          "text": [
            "Customer  Rep   Supervisor\n",
            "--------  ----  ----------\n",
            "Luís      Jane  Nancy     \n",
            "François  Jane  Nancy     \n",
            "Roberto   Jane  Nancy     \n",
            "Jennifer  Jane  Nancy     \n",
            "Michelle  Jane  Nancy     \n",
            "Tim       Jane  Nancy     \n",
            "Frank     Jane  Nancy     \n",
            "Robert    Jane  Nancy     \n",
            "Edward    Jane  Nancy     \n",
            "Ellie     Jane  Nancy     \n"
          ]
        }
      ]
    },
    {
      "cell_type": "markdown",
      "source": [
        "## You Turn"
      ],
      "metadata": {
        "id": "RoItcHtIG9bq"
      }
    },
    {
      "cell_type": "markdown",
      "source": [
        "- How many unique albums are in the Tracks table?\n",
        "- How many tracks are on the album with AlbumID 1?\n",
        "- Do the totals in the Invoices table add up to the lineitems in the Invoice_Items table?\n"
      ],
      "metadata": {
        "id": "tl-IIcoiHBrM"
      }
    },
    {
      "cell_type": "code",
      "source": [
        "# How many unique records are in the Tracks table?\n",
        "%%script sqlite3 --column --header chinook.db\n",
        "select count(distinct AlbumID) as unique_albums\n",
        "from `tracks`\n",
        ";\n"
      ],
      "metadata": {
        "id": "QJ0uiI-152Wq",
        "colab": {
          "base_uri": "https://localhost:8080/"
        },
        "outputId": "c9623e10-7e48-4607-aaad-ea59ee2790e7"
      },
      "execution_count": 28,
      "outputs": [
        {
          "output_type": "stream",
          "name": "stdout",
          "text": [
            "unique_albums\n",
            "-------------\n",
            "347          \n"
          ]
        }
      ]
    },
    {
      "cell_type": "code",
      "source": [
        "# How many unique records are in the Tracks table?\n",
        "%%script sqlite3 --column --header chinook.db\n",
        "select count(AlbumID)\n",
        "from tracks\n",
        ";"
      ],
      "metadata": {
        "colab": {
          "base_uri": "https://localhost:8080/"
        },
        "id": "6qPD19tCPTnG",
        "outputId": "6b3a9e55-a8de-4a8e-dbf5-f98f4d3f171b"
      },
      "execution_count": 29,
      "outputs": [
        {
          "output_type": "stream",
          "name": "stdout",
          "text": [
            "count(AlbumID)\n",
            "--------------\n",
            "3503          \n"
          ]
        }
      ]
    },
    {
      "cell_type": "code",
      "source": [
        "# How many tracks are on the album with AlbumID 1?\n",
        "%%script sqlite3 --column --header chinook.db\n",
        "select count(1) as track_count\n",
        "from tracks\n",
        "where albumid = 1\n",
        ";"
      ],
      "metadata": {
        "id": "WGAmGvF0_yrA",
        "colab": {
          "base_uri": "https://localhost:8080/"
        },
        "outputId": "314ff91b-e04f-4836-e6af-bc0c53042ed2"
      },
      "execution_count": 30,
      "outputs": [
        {
          "output_type": "stream",
          "name": "stdout",
          "text": [
            "track_count\n",
            "-----------\n",
            "10         \n"
          ]
        }
      ]
    },
    {
      "cell_type": "code",
      "source": [
        "# Do the totals in the Invoices table add up to the lineitems in the Invoice_Items table?\n",
        "%%script sqlite3 --column --header chinook.db\n",
        "select InvoiceID, Total\n",
        "from invoices\n",
        "limit 10\n"
      ],
      "metadata": {
        "id": "mBgqXk8_HeQo",
        "colab": {
          "base_uri": "https://localhost:8080/"
        },
        "outputId": "386a616d-a40a-428d-e8c3-5176967412b6"
      },
      "execution_count": 31,
      "outputs": [
        {
          "output_type": "stream",
          "name": "stdout",
          "text": [
            "InvoiceId  Total\n",
            "---------  -----\n",
            "1          1.98 \n",
            "2          3.96 \n",
            "3          5.94 \n",
            "4          8.91 \n",
            "5          13.86\n",
            "6          0.99 \n",
            "7          1.98 \n",
            "8          1.98 \n",
            "9          3.96 \n",
            "10         5.94 \n"
          ]
        }
      ]
    },
    {
      "cell_type": "code",
      "source": [
        "# Do the totals in the Invoices table add up to the lineitems in the Invoice_Items table?\n",
        "%%script sqlite3 --column --header chinook.db\n",
        "select invoiceID, sum((unitprice * quantity)) as line_total\n",
        "from invoice_items\n",
        "group by invoiceid\n",
        "limit 10\n"
      ],
      "metadata": {
        "id": "N4P_ujwIGQLB",
        "colab": {
          "base_uri": "https://localhost:8080/"
        },
        "outputId": "86e60f9d-3d84-4eb6-b020-8980ec30f7ee"
      },
      "execution_count": 32,
      "outputs": [
        {
          "output_type": "stream",
          "name": "stdout",
          "text": [
            "InvoiceId  line_total\n",
            "---------  ----------\n",
            "1          1.98      \n",
            "2          3.96      \n",
            "3          5.94      \n",
            "4          8.91      \n",
            "5          13.86     \n",
            "6          0.99      \n",
            "7          1.98      \n",
            "8          1.98      \n",
            "9          3.96      \n",
            "10         5.94      \n"
          ]
        }
      ]
    },
    {
      "cell_type": "code",
      "source": [
        "%%script sqlite3 --column --header chinook.db\n",
        "with\n",
        "invoices_ as (\n",
        "  select InvoiceID, Total as Total\n",
        "  from invoices\n",
        "),\n",
        "line_items as (\n",
        "  select invoiceID, sum((unitprice * quantity)) as line_total\n",
        "  from invoice_items\n",
        "  group by invoiceid\n",
        "),\n",
        "side_by_side as (\n",
        "  select *\n",
        "  from invoices_ as i\n",
        "  join line_items as li\n",
        "  on i.invoiceid = li.invoiceid\n",
        ")\n",
        "select * from side_by_side\n",
        "where total != line_total\n",
        "limit 10\n",
        "\n",
        "\n"
      ],
      "metadata": {
        "id": "Zq2BcB-F52Wr",
        "colab": {
          "base_uri": "https://localhost:8080/"
        },
        "outputId": "69c20193-5c2f-46a4-84b1-5fb3c3cd6b37"
      },
      "execution_count": 33,
      "outputs": [
        {
          "output_type": "stream",
          "name": "stdout",
          "text": [
            "InvoiceID  Total  invoiceID:1  line_total\n",
            "---------  -----  -----------  ----------\n",
            "5          13.86  5            13.86     \n",
            "12         13.86  12           13.86     \n",
            "19         13.86  19           13.86     \n",
            "26         13.86  26           13.86     \n",
            "33         13.86  33           13.86     \n",
            "40         13.86  40           13.86     \n",
            "47         13.86  47           13.86     \n",
            "54         13.86  54           13.86     \n",
            "61         13.86  61           13.86     \n",
            "68         13.86  68           13.86     \n"
          ]
        }
      ]
    },
    {
      "cell_type": "code",
      "source": [
        "%%script sqlite3 --column --header chinook.db\n",
        "with track_info as (\n",
        "    select\n",
        "        name as trackname,\n",
        "        composer,\n",
        "        genreid\n",
        "    from\n",
        "        tracks\n",
        ")\n",
        "select\n",
        "    ti.composer,\n",
        "    g.name as genre,\n",
        "    count(*) as trackcount\n",
        "from\n",
        "    track_info ti\n",
        "join\n",
        "    genres g on ti.genreid = g.genreid\n",
        "where\n",
        "    ti.composer is not null\n",
        "group by\n",
        "    ti.composer, g.name\n",
        "order by\n",
        "    trackcount desc\n",
        "limit 50;"
      ],
      "metadata": {
        "id": "nRnUfCqZDIWM",
        "outputId": "de1a9a0d-9fec-4ee8-9201-a02fd0d3c57e",
        "colab": {
          "base_uri": "https://localhost:8080/"
        }
      },
      "execution_count": 38,
      "outputs": [
        {
          "output_type": "stream",
          "name": "stdout",
          "text": [
            "composer                                                             genre               trackcount\n",
            "-------------------------------------------------------------------  ------------------  ----------\n",
            "U2                                                                   Rock                44        \n",
            "Steve Harris                                                         Metal               36        \n",
            "Jagger/Richards                                                      Rock                35        \n",
            "Billy Corgan                                                         Alternative & Punk  31        \n",
            "Kurt Cobain                                                          Rock                26        \n",
            "Steve Harris                                                         Rock                26        \n",
            "The Tea Party                                                        Alternative & Punk  24        \n",
            "Chico Science                                                        Latin               23        \n",
            "Miles Davis                                                          Jazz                23        \n",
            "Titãs                                                                Alternative & Punk  22        \n",
            "Billie Joe Armstrong -Words Green Day -Music                         Alternative & Punk  20        \n",
            "J.C. Fogerty                                                         Rock                20        \n",
            "Renato Russo                                                         Latin               20        \n",
            "Gilberto Gil                                                         Latin               19        \n",
            "Chris Robinson/Rich Robinson                                         Blues               18        \n",
            "Herbert Vianna                                                       Latin               18        \n",
            "J. C. Fogerty                                                        Rock                17        \n",
            "Vários                                                               Latin               17        \n",
            "Anthony Kiedis, Flea, John Frusciante, and Chad Smith                Rock                16        \n",
            "Anthony Kiedis/Chad Smith/Flea/John Frusciante                       Alternative & Punk  16        \n",
            "Jimi Hendrix                                                         Rock                16        \n",
            "R.E.M.                                                               Alternative & Punk  16        \n",
            "Jimmy Page, Robert Plant                                             Rock                15        \n",
            "Van Halen                                                            Rock                15        \n",
            "Audioslave/Chris Cornell                                             Rock                14        \n",
            "Bill Berry-Peter Buck-Mike Mills-Michael Stipe                       Rock                14        \n",
            "Brian Eno, Bono, Adam Clayton, The Edge & Larry Mullen Jnr.          Soundtrack          14        \n",
            "G M Sumner                                                           Rock                14        \n",
            "Geddy Lee And Alex Lifeson/Geddy Lee And Neil Peart/Rush             Rock                14        \n",
            "João Suplicy                                                         World               14        \n",
            "Alanis Morissette & Glenn Ballard                                    Rock                13        \n",
            "Chris Cornell                                                        Alternative         13        \n",
            "Clarke/Kilmister/Taylor                                              Metal               13        \n",
            "Pete Townshend                                                       Rock                13        \n",
            "Robert Plant                                                         Rock                13        \n",
            "Steve Harris                                                         Heavy Metal         13        \n",
            "Bono, The Edge, Adam Clayton, and Larry Mullen                       Rock                12        \n",
            "Bono/Clayton, Adam/Mullen Jr., Larry/The Edge                        Rock                12        \n",
            "Cornell, Commerford, Morello, Wilk                                   Alternative & Punk  12        \n",
            "Dave Abbruzzese/Eddie Vedder/Jeff Ament/Mike McCready/Stone Gossard  Rock                12        \n",
            "Dave Kushner, Duff, Matt Sorum, Scott Weiland & Slash                Rock                12        \n",
            "Djavan                                                               Latin               12        \n",
            "Ian Gillan, Roger Glover, Jon Lord, Steve Morse, Ian Paice           Rock                12        \n",
            "Jimmy Page, Robert Plant, Charlie Jones, Michael Lee                 Rock                12        \n",
            "Jimmy Page/Robert Plant                                              Rock                12        \n",
            "Mônica Marianno                                                      World               12        \n",
            "Red Hot Chili Peppers                                                Rock                12        \n",
            "Adam Clayton, Bono, Larry Mullen & The Edge                          Rock                11        \n",
            "Adam Clayton, Bono, Larry Mullen, The Edge                           Rock                11        \n",
            "Bill Berry-Peter Buck-Mike Mills-Michael Stipe                       Alternative & Punk  11        \n"
          ]
        }
      ]
    },
    {
      "cell_type": "code",
      "source": [
        "%%script sqlite3 --column --header chinook.db\n",
        "SELECT\n",
        "    CASE\n",
        "        WHEN al.ArtistID IS NULL THEN 'No Artist'\n",
        "        ELSE 'With Artist'\n",
        "    END AS AlbumStatus,\n",
        "    COUNT(*) AS AlbumCount\n",
        "FROM\n",
        "    albums al\n",
        "LEFT JOIN\n",
        "    artists ar ON al.ArtistID = ar.ArtistID\n",
        "GROUP BY\n",
        "    CASE\n",
        "        WHEN al.ArtistID IS NULL THEN 'No Artist'\n",
        "        ELSE 'With Artist'\n",
        "    END;"
      ],
      "metadata": {
        "id": "mK6nSYjTL3g3",
        "outputId": "e395ac5d-3fe0-47f0-fde2-496ee993c002",
        "colab": {
          "base_uri": "https://localhost:8080/"
        }
      },
      "execution_count": 34,
      "outputs": [
        {
          "output_type": "stream",
          "name": "stdout",
          "text": [
            "AlbumStatus  AlbumCount\n",
            "-----------  ----------\n",
            "With Artist  347       \n"
          ]
        }
      ]
    },
    {
      "cell_type": "code",
      "source": [
        "%%script sqlite3 --column --header chinook.db\n",
        "SELECT\n",
        "    CASE\n",
        "        WHEN al.ArtistID IS NULL THEN 'Without Artist'\n",
        "        ELSE 'With Artist'\n",
        "    END AS AlbumStatus,\n",
        "    COUNT(*) AS AlbumCount\n",
        "FROM\n",
        "    albums al\n",
        "LEFT JOIN\n",
        "    artists ar ON al.ArtistID = ar.ArtistID\n",
        "GROUP BY\n",
        "    CASE\n",
        "        WHEN al.ArtistID IS NULL THEN 'Without Artist'\n",
        "        ELSE 'With Artist'\n",
        "    END\n",
        "\n",
        "UNION ALL\n",
        "\n",
        "SELECT NULL, NULL\n",
        "\n",
        "UNION ALL\n",
        "\n",
        "SELECT 'Albums Without Artists', COUNT(*) AS AlbumCount\n",
        "FROM albums\n",
        "WHERE ArtistID IS NULL;"
      ],
      "metadata": {
        "id": "sMP1uIiH51Pm",
        "outputId": "e253e4b0-f928-4d28-cc24-f7f05fafade3",
        "colab": {
          "base_uri": "https://localhost:8080/"
        }
      },
      "execution_count": 35,
      "outputs": [
        {
          "output_type": "stream",
          "name": "stdout",
          "text": [
            "AlbumStatus             AlbumCount\n",
            "----------------------  ----------\n",
            "With Artist             347       \n",
            "                                  \n",
            "Albums Without Artists  0         \n"
          ]
        }
      ]
    },
    {
      "cell_type": "code",
      "source": [
        "%%script sqlite3 --column --header chinook.db\n"
      ],
      "metadata": {
        "id": "CkHCv4oB6JUI"
      },
      "execution_count": 36,
      "outputs": []
    }
  ],
  "metadata": {
    "colab": {
      "provenance": []
    },
    "kernelspec": {
      "display_name": "Python 3",
      "name": "python3"
    },
    "language_info": {
      "name": "python"
    }
  },
  "nbformat": 4,
  "nbformat_minor": 0
}